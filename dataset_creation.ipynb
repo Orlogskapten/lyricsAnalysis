{
  "cells": [
    {
      "cell_type": "markdown",
      "source": [
        "# Recherche de lyrics par artiste\n",
        "\n",
        "Notre but est de récupérer par artiste, l'ensemble des paroles de ses sons.\n",
        "\n",
        "\n",
        "__ATTENTION__ ici je ne me concentre que sur les albums des artistes, c'est à dire que tous les song qui ne sont pas sorties dans un album ne sont pas comtabilisé. En effet, sans cette condition difficile de mettre une année sur la diffusion du son.\n",
        "\n",
        "\n",
        "Nous allons utiliser ce site [https://search.azlyrics.com](https://search.azlyrics.com) pour la recherche des paroles.\n",
        "<br>\n",
        "<br>\n",
        "\n",
        "Voici donc les étapes de la constitution de cette base:\n",
        "\n",
        "-  Dans un premier temps, la fonction <a href='#artist_to_url'>artist_to_url</a> nous permet de générer à l'aide d'un nom d'artiste un url vers l'ensemble de sa discographie.\n",
        "-  Notre deuxième fonction <a href='#album_url_year'>album_url_year</a> va nous permettre de ressortir JE NE SAIS PAS ENCORE SOUS QUEL FORMAT le nom de l'artiste, le nom de l'album, l'année de difusion et enfin les liens vers les musiques contenus dans les albums.\n"
      ],
      "metadata": {}
    },
    {
      "cell_type": "code",
      "source": [
        "import pandas as pd\n",
        "import numpy as np\n",
        "import re\n",
        "import unidecode\n",
        "import requests\n",
        "from bs4 import BeautifulSoup\n",
        "import urllib\n",
        "from lxml import html\n",
        "import sys\n",
        "\n",
        "from nltk.stem.snowball import EnglishStemmer\n",
        "from nltk.stem.snowball import SnowballStemmer\n",
        "from nltk.tokenize import TreebankWordTokenizer\n",
        "\n",
        "# import spacy\n",
        "\n",
        "import time"
      ],
      "outputs": [],
      "execution_count": 1,
      "metadata": {
        "ExecuteTime": {
          "end_time": "2020-01-11T15:46:27.786381Z",
          "start_time": "2020-01-11T15:46:21.303054Z"
        }
      }
    },
    {
      "cell_type": "code",
      "source": [
        "import nltk\n",
        "nltk.download('stopwords')"
      ],
      "outputs": [
        {
          "output_type": "stream",
          "name": "stderr",
          "text": [
            "[nltk_data] Downloading package stopwords to\n",
            "[nltk_data]     C:\\Users\\Wenceslas\\AppData\\Roaming\\nltk_data...\n",
            "[nltk_data]   Package stopwords is already up-to-date!\n"
          ]
        },
        {
          "output_type": "execute_result",
          "execution_count": 2,
          "data": {
            "text/plain": [
              "True"
            ]
          },
          "metadata": {}
        }
      ],
      "execution_count": 2,
      "metadata": {
        "ExecuteTime": {
          "end_time": "2020-01-11T15:46:28.247327Z",
          "start_time": "2020-01-11T15:46:27.789373Z"
        }
      }
    },
    {
      "cell_type": "code",
      "source": [
        "#permet de générer l'url pour accéder à l'ensemble des titres de l'artiste\n",
        "#certain artiste comme Renaud ne sont pas référencé\n",
        "def artist_to_url(artist):\n",
        "    \"\"\"\n",
        "    \n",
        "    \"\"\"\n",
        "    url_base= \"\"\"https://www.azlyrics.com\"\"\"\n",
        "    name= re.sub(' ','',artist)\n",
        "    name= unidecode.unidecode(name.lower()) #me permet d'enlever les accents comme é ou â\n",
        "    first_l= list(name)[0]\n",
        "    #certains artistes ont un nom qui commence par un chiffre\n",
        "    #dans ce cas, la procédure de création de l'url est un peu différent\n",
        "    if first_l.isalpha():\n",
        "        url= \"\"\"{}/{}/{}.html\"\"\".format(url_base, first_l, name)\n",
        "    else:\n",
        "        url= \"\"\"{}/19/{}.html\"\"\".format(url_base, name)\n",
        "    return url"
      ],
      "outputs": [],
      "execution_count": 3,
      "metadata": {
        "ExecuteTime": {
          "end_time": "2020-01-11T15:46:28.261252Z",
          "start_time": "2020-01-11T15:46:28.250285Z"
        }
      }
    },
    {
      "cell_type": "code",
      "source": [
        "#test\n",
        "artist_to_url(\"Fewer 333\")"
      ],
      "outputs": [
        {
          "output_type": "execute_result",
          "execution_count": 4,
          "data": {
            "text/plain": [
              "'https://www.azlyrics.com/f/fewer333.html'"
            ]
          },
          "metadata": {}
        }
      ],
      "execution_count": 4,
      "metadata": {
        "ExecuteTime": {
          "end_time": "2020-01-11T15:46:28.272230Z",
          "start_time": "2020-01-11T15:46:28.264245Z"
        }
      }
    },
    {
      "cell_type": "code",
      "source": [
        "def album_url_year(artist, timed= True):\n",
        "    \"\"\"\n",
        "    \n",
        "    \"\"\"\n",
        "    year, album_name, url_song= [], [], []\n",
        "    \n",
        "    page= requests.get(artist_to_url(artist)) #l'appelle la fonction précédente\n",
        "    soup= BeautifulSoup(page.text, 'html.parser')\n",
        "    html_page= soup.find('div', id= 'listAlbum')\n",
        "    \n",
        "    if timed:\n",
        "        time.sleep(np.random.randint(5, 30, 1))\n",
        "    \n",
        "    html_data= str(html_page).split('<div class=\"album\"')[1:][:-1]\n",
        "    for ht in html_data:\n",
        "    #je défini mes patterns REGEX pour récupérer de la page html le nom des albums, avec son année et les url des lyrics menant aux paroles de chacunes des musiques de l'album     \n",
        "        pattern_yr= re.compile('</b> \\((\\d{4})\\)</div>|</b> \\((\\d{4})\\)<br/>')\n",
        "        pattern_alb= re.compile('<b>\"([\\s\\S]*)\"</b>')\n",
        "        pattern_url= re.compile('href=\"..([\\s\\S]*).html\" target=')\n",
        "\n",
        "        year.append(pattern_yr.search(ht).group(1))\n",
        "        album_name.append(pattern_alb.search(ht).group(1))\n",
        "        #le traitement pour les url est un peu différent\n",
        "        url_list= ht.split('\\n')\n",
        "        url_base= \"https://www.azlyrics.com\"\n",
        "        url_song.append([url_base + pattern_url.search(href).group(1) + \".html\" \\\n",
        "                for href in url_list \\\n",
        "                if pattern_url.search(href) != None])\n",
        "    try:\n",
        "        df= pd.DataFrame(\n",
        "        {\n",
        "            \"Artiste\": [artist]*len(year),\n",
        "            \"Annee\": year,\n",
        "            \"Album\": album_name,\n",
        "            \"Url\": url_song\n",
        "        })\n",
        "    except ValueError as err:\n",
        "        print(\"Attention, il semble que les listes du df ne soient \\\n",
        "        pas de la même longueur\", err)\n",
        "        \n",
        "    #le df que je creer contient en URF une liste des url, je veux donc avoir une ligne par URL et donc\n",
        "    #les valeurs annee album, et artiste qui correspondent.\n",
        "    df_not_listed= pd.DataFrame({\n",
        "      col:np.repeat(df[col].values, df[\"Url\"].str.len())\n",
        "      for col in df.columns.drop(\"Url\")\n",
        "    }\n",
        "    ).assign(**{\n",
        "        \"Url\":np.concatenate(df[\"Url\"].values)\n",
        "    })[df.columns]\n",
        "    \n",
        "    return df_not_listed"
      ],
      "outputs": [],
      "execution_count": 5,
      "metadata": {
        "ExecuteTime": {
          "end_time": "2020-01-11T15:46:28.291172Z",
          "start_time": "2020-01-11T15:46:28.274216Z"
        }
      }
    },
    {
      "cell_type": "code",
      "source": [
        "album_url_year(\"jinjer\")"
      ],
      "outputs": [
        {
          "output_type": "execute_result",
          "execution_count": 6,
          "data": {
            "text/html": [
              "<div>\n",
              "<style scoped>\n",
              "    .dataframe tbody tr th:only-of-type {\n",
              "        vertical-align: middle;\n",
              "    }\n",
              "\n",
              "    .dataframe tbody tr th {\n",
              "        vertical-align: top;\n",
              "    }\n",
              "\n",
              "    .dataframe thead th {\n",
              "        text-align: right;\n",
              "    }\n",
              "</style>\n",
              "<table border=\"1\" class=\"dataframe\">\n",
              "  <thead>\n",
              "    <tr style=\"text-align: right;\">\n",
              "      <th></th>\n",
              "      <th>Artiste</th>\n",
              "      <th>Annee</th>\n",
              "      <th>Album</th>\n",
              "      <th>Url</th>\n",
              "    </tr>\n",
              "  </thead>\n",
              "  <tbody>\n",
              "    <tr>\n",
              "      <th>0</th>\n",
              "      <td>jinjer</td>\n",
              "      <td>2012</td>\n",
              "      <td>Inhale. Do Not Breathe</td>\n",
              "      <td>https://www.azlyrics.com/lyrics/jinjer/untilth...</td>\n",
              "    </tr>\n",
              "    <tr>\n",
              "      <th>1</th>\n",
              "      <td>jinjer</td>\n",
              "      <td>2012</td>\n",
              "      <td>Inhale. Do Not Breathe</td>\n",
              "      <td>https://www.azlyrics.com/lyrics/jinjer/waltz.html</td>\n",
              "    </tr>\n",
              "    <tr>\n",
              "      <th>2</th>\n",
              "      <td>jinjer</td>\n",
              "      <td>2012</td>\n",
              "      <td>Inhale. Do Not Breathe</td>\n",
              "      <td>https://www.azlyrics.com/lyrics/jinjer/scissor...</td>\n",
              "    </tr>\n",
              "    <tr>\n",
              "      <th>3</th>\n",
              "      <td>jinjer</td>\n",
              "      <td>2012</td>\n",
              "      <td>Inhale. Do Not Breathe</td>\n",
              "      <td>https://www.azlyrics.com/lyrics/jinjer/exposed...</td>\n",
              "    </tr>\n",
              "    <tr>\n",
              "      <th>4</th>\n",
              "      <td>jinjer</td>\n",
              "      <td>2012</td>\n",
              "      <td>Inhale. Do Not Breathe</td>\n",
              "      <td>https://www.azlyrics.com/lyrics/jinjer/mylostc...</td>\n",
              "    </tr>\n",
              "    <tr>\n",
              "      <th>5</th>\n",
              "      <td>jinjer</td>\n",
              "      <td>2014</td>\n",
              "      <td>Cloud Factory</td>\n",
              "      <td>https://www.azlyrics.com/lyrics/jinjer/outland...</td>\n",
              "    </tr>\n",
              "    <tr>\n",
              "      <th>6</th>\n",
              "      <td>jinjer</td>\n",
              "      <td>2014</td>\n",
              "      <td>Cloud Factory</td>\n",
              "      <td>https://www.azlyrics.com/lyrics/jinjer/aplusor...</td>\n",
              "    </tr>\n",
              "    <tr>\n",
              "      <th>7</th>\n",
              "      <td>jinjer</td>\n",
              "      <td>2014</td>\n",
              "      <td>Cloud Factory</td>\n",
              "      <td>https://www.azlyrics.com/lyrics/jinjer/nohoard...</td>\n",
              "    </tr>\n",
              "    <tr>\n",
              "      <th>8</th>\n",
              "      <td>jinjer</td>\n",
              "      <td>2014</td>\n",
              "      <td>Cloud Factory</td>\n",
              "      <td>https://www.azlyrics.com/lyrics/jinjer/cloudfa...</td>\n",
              "    </tr>\n",
              "    <tr>\n",
              "      <th>9</th>\n",
              "      <td>jinjer</td>\n",
              "      <td>2014</td>\n",
              "      <td>Cloud Factory</td>\n",
              "      <td>https://www.azlyrics.com/lyrics/jinjer/whoisgo...</td>\n",
              "    </tr>\n",
              "    <tr>\n",
              "      <th>10</th>\n",
              "      <td>jinjer</td>\n",
              "      <td>2014</td>\n",
              "      <td>Cloud Factory</td>\n",
              "      <td>https://www.azlyrics.com/lyrics/jinjer/whentwo...</td>\n",
              "    </tr>\n",
              "    <tr>\n",
              "      <th>11</th>\n",
              "      <td>jinjer</td>\n",
              "      <td>2014</td>\n",
              "      <td>Cloud Factory</td>\n",
              "      <td>https://www.azlyrics.com/lyrics/jinjer/zhelayu...</td>\n",
              "    </tr>\n",
              "    <tr>\n",
              "      <th>12</th>\n",
              "      <td>jinjer</td>\n",
              "      <td>2014</td>\n",
              "      <td>Cloud Factory</td>\n",
              "      <td>https://www.azlyrics.com/lyrics/jinjer/badwate...</td>\n",
              "    </tr>\n",
              "    <tr>\n",
              "      <th>13</th>\n",
              "      <td>jinjer</td>\n",
              "      <td>2016</td>\n",
              "      <td>King Of Everything</td>\n",
              "      <td>https://www.azlyrics.com/lyrics/jinjer/prologu...</td>\n",
              "    </tr>\n",
              "    <tr>\n",
              "      <th>14</th>\n",
              "      <td>jinjer</td>\n",
              "      <td>2016</td>\n",
              "      <td>King Of Everything</td>\n",
              "      <td>https://www.azlyrics.com/lyrics/jinjer/captain...</td>\n",
              "    </tr>\n",
              "    <tr>\n",
              "      <th>15</th>\n",
              "      <td>jinjer</td>\n",
              "      <td>2016</td>\n",
              "      <td>King Of Everything</td>\n",
              "      <td>https://www.azlyrics.com/lyrics/jinjer/wordsof...</td>\n",
              "    </tr>\n",
              "    <tr>\n",
              "      <th>16</th>\n",
              "      <td>jinjer</td>\n",
              "      <td>2016</td>\n",
              "      <td>King Of Everything</td>\n",
              "      <td>https://www.azlyrics.com/lyrics/jinjer/justano...</td>\n",
              "    </tr>\n",
              "    <tr>\n",
              "      <th>17</th>\n",
              "      <td>jinjer</td>\n",
              "      <td>2016</td>\n",
              "      <td>King Of Everything</td>\n",
              "      <td>https://www.azlyrics.com/lyrics/jinjer/ispeaka...</td>\n",
              "    </tr>\n",
              "    <tr>\n",
              "      <th>18</th>\n",
              "      <td>jinjer</td>\n",
              "      <td>2016</td>\n",
              "      <td>King Of Everything</td>\n",
              "      <td>https://www.azlyrics.com/lyrics/jinjer/sitstay...</td>\n",
              "    </tr>\n",
              "    <tr>\n",
              "      <th>19</th>\n",
              "      <td>jinjer</td>\n",
              "      <td>2016</td>\n",
              "      <td>King Of Everything</td>\n",
              "      <td>https://www.azlyrics.com/lyrics/jinjer/underth...</td>\n",
              "    </tr>\n",
              "    <tr>\n",
              "      <th>20</th>\n",
              "      <td>jinjer</td>\n",
              "      <td>2016</td>\n",
              "      <td>King Of Everything</td>\n",
              "      <td>https://www.azlyrics.com/lyrics/jinjer/dipasai...</td>\n",
              "    </tr>\n",
              "    <tr>\n",
              "      <th>21</th>\n",
              "      <td>jinjer</td>\n",
              "      <td>2016</td>\n",
              "      <td>King Of Everything</td>\n",
              "      <td>https://www.azlyrics.com/lyrics/jinjer/pisces....</td>\n",
              "    </tr>\n",
              "    <tr>\n",
              "      <th>22</th>\n",
              "      <td>jinjer</td>\n",
              "      <td>2016</td>\n",
              "      <td>King Of Everything</td>\n",
              "      <td>https://www.azlyrics.com/lyrics/jinjer/beggars...</td>\n",
              "    </tr>\n",
              "    <tr>\n",
              "      <th>23</th>\n",
              "      <td>jinjer</td>\n",
              "      <td>2019</td>\n",
              "      <td>Micro</td>\n",
              "      <td>https://www.azlyrics.com/lyrics/jinjer/ape.html</td>\n",
              "    </tr>\n",
              "    <tr>\n",
              "      <th>24</th>\n",
              "      <td>jinjer</td>\n",
              "      <td>2019</td>\n",
              "      <td>Micro</td>\n",
              "      <td>https://www.azlyrics.com/lyrics/jinjer/dreadfu...</td>\n",
              "    </tr>\n",
              "    <tr>\n",
              "      <th>25</th>\n",
              "      <td>jinjer</td>\n",
              "      <td>2019</td>\n",
              "      <td>Micro</td>\n",
              "      <td>https://www.azlyrics.com/lyrics/jinjer/teacher...</td>\n",
              "    </tr>\n",
              "    <tr>\n",
              "      <th>26</th>\n",
              "      <td>jinjer</td>\n",
              "      <td>2019</td>\n",
              "      <td>Micro</td>\n",
              "      <td>https://www.azlyrics.com/lyrics/jinjer/perenni...</td>\n",
              "    </tr>\n",
              "    <tr>\n",
              "      <th>27</th>\n",
              "      <td>jinjer</td>\n",
              "      <td>2019</td>\n",
              "      <td>Macro</td>\n",
              "      <td>https://www.azlyrics.com/lyrics/jinjer/ontheto...</td>\n",
              "    </tr>\n",
              "    <tr>\n",
              "      <th>28</th>\n",
              "      <td>jinjer</td>\n",
              "      <td>2019</td>\n",
              "      <td>Macro</td>\n",
              "      <td>https://www.azlyrics.com/lyrics/jinjer/pitofco...</td>\n",
              "    </tr>\n",
              "    <tr>\n",
              "      <th>29</th>\n",
              "      <td>jinjer</td>\n",
              "      <td>2019</td>\n",
              "      <td>Macro</td>\n",
              "      <td>https://www.azlyrics.com/lyrics/jinjer/judgeme...</td>\n",
              "    </tr>\n",
              "    <tr>\n",
              "      <th>30</th>\n",
              "      <td>jinjer</td>\n",
              "      <td>2019</td>\n",
              "      <td>Macro</td>\n",
              "      <td>https://www.azlyrics.com/lyrics/jinjer/retrosp...</td>\n",
              "    </tr>\n",
              "    <tr>\n",
              "      <th>31</th>\n",
              "      <td>jinjer</td>\n",
              "      <td>2019</td>\n",
              "      <td>Macro</td>\n",
              "      <td>https://www.azlyrics.com/lyrics/jinjer/pausing...</td>\n",
              "    </tr>\n",
              "    <tr>\n",
              "      <th>32</th>\n",
              "      <td>jinjer</td>\n",
              "      <td>2019</td>\n",
              "      <td>Macro</td>\n",
              "      <td>https://www.azlyrics.com/lyrics/jinjer/noah.html</td>\n",
              "    </tr>\n",
              "    <tr>\n",
              "      <th>33</th>\n",
              "      <td>jinjer</td>\n",
              "      <td>2019</td>\n",
              "      <td>Macro</td>\n",
              "      <td>https://www.azlyrics.com/lyrics/jinjer/homebac...</td>\n",
              "    </tr>\n",
              "    <tr>\n",
              "      <th>34</th>\n",
              "      <td>jinjer</td>\n",
              "      <td>2019</td>\n",
              "      <td>Macro</td>\n",
              "      <td>https://www.azlyrics.com/lyrics/jinjer/theprop...</td>\n",
              "    </tr>\n",
              "    <tr>\n",
              "      <th>35</th>\n",
              "      <td>jinjer</td>\n",
              "      <td>2019</td>\n",
              "      <td>Macro</td>\n",
              "      <td>https://www.azlyrics.com/lyrics/jinjer/lainner...</td>\n",
              "    </tr>\n",
              "  </tbody>\n",
              "</table>\n",
              "</div>"
            ],
            "text/plain": [
              "   Artiste Annee                   Album  \\\n",
              "0   jinjer  2012  Inhale. Do Not Breathe   \n",
              "1   jinjer  2012  Inhale. Do Not Breathe   \n",
              "2   jinjer  2012  Inhale. Do Not Breathe   \n",
              "3   jinjer  2012  Inhale. Do Not Breathe   \n",
              "4   jinjer  2012  Inhale. Do Not Breathe   \n",
              "5   jinjer  2014           Cloud Factory   \n",
              "6   jinjer  2014           Cloud Factory   \n",
              "7   jinjer  2014           Cloud Factory   \n",
              "8   jinjer  2014           Cloud Factory   \n",
              "9   jinjer  2014           Cloud Factory   \n",
              "10  jinjer  2014           Cloud Factory   \n",
              "11  jinjer  2014           Cloud Factory   \n",
              "12  jinjer  2014           Cloud Factory   \n",
              "13  jinjer  2016      King Of Everything   \n",
              "14  jinjer  2016      King Of Everything   \n",
              "15  jinjer  2016      King Of Everything   \n",
              "16  jinjer  2016      King Of Everything   \n",
              "17  jinjer  2016      King Of Everything   \n",
              "18  jinjer  2016      King Of Everything   \n",
              "19  jinjer  2016      King Of Everything   \n",
              "20  jinjer  2016      King Of Everything   \n",
              "21  jinjer  2016      King Of Everything   \n",
              "22  jinjer  2016      King Of Everything   \n",
              "23  jinjer  2019                   Micro   \n",
              "24  jinjer  2019                   Micro   \n",
              "25  jinjer  2019                   Micro   \n",
              "26  jinjer  2019                   Micro   \n",
              "27  jinjer  2019                   Macro   \n",
              "28  jinjer  2019                   Macro   \n",
              "29  jinjer  2019                   Macro   \n",
              "30  jinjer  2019                   Macro   \n",
              "31  jinjer  2019                   Macro   \n",
              "32  jinjer  2019                   Macro   \n",
              "33  jinjer  2019                   Macro   \n",
              "34  jinjer  2019                   Macro   \n",
              "35  jinjer  2019                   Macro   \n",
              "\n",
              "                                                  Url  \n",
              "0   https://www.azlyrics.com/lyrics/jinjer/untilth...  \n",
              "1   https://www.azlyrics.com/lyrics/jinjer/waltz.html  \n",
              "2   https://www.azlyrics.com/lyrics/jinjer/scissor...  \n",
              "3   https://www.azlyrics.com/lyrics/jinjer/exposed...  \n",
              "4   https://www.azlyrics.com/lyrics/jinjer/mylostc...  \n",
              "5   https://www.azlyrics.com/lyrics/jinjer/outland...  \n",
              "6   https://www.azlyrics.com/lyrics/jinjer/aplusor...  \n",
              "7   https://www.azlyrics.com/lyrics/jinjer/nohoard...  \n",
              "8   https://www.azlyrics.com/lyrics/jinjer/cloudfa...  \n",
              "9   https://www.azlyrics.com/lyrics/jinjer/whoisgo...  \n",
              "10  https://www.azlyrics.com/lyrics/jinjer/whentwo...  \n",
              "11  https://www.azlyrics.com/lyrics/jinjer/zhelayu...  \n",
              "12  https://www.azlyrics.com/lyrics/jinjer/badwate...  \n",
              "13  https://www.azlyrics.com/lyrics/jinjer/prologu...  \n",
              "14  https://www.azlyrics.com/lyrics/jinjer/captain...  \n",
              "15  https://www.azlyrics.com/lyrics/jinjer/wordsof...  \n",
              "16  https://www.azlyrics.com/lyrics/jinjer/justano...  \n",
              "17  https://www.azlyrics.com/lyrics/jinjer/ispeaka...  \n",
              "18  https://www.azlyrics.com/lyrics/jinjer/sitstay...  \n",
              "19  https://www.azlyrics.com/lyrics/jinjer/underth...  \n",
              "20  https://www.azlyrics.com/lyrics/jinjer/dipasai...  \n",
              "21  https://www.azlyrics.com/lyrics/jinjer/pisces....  \n",
              "22  https://www.azlyrics.com/lyrics/jinjer/beggars...  \n",
              "23    https://www.azlyrics.com/lyrics/jinjer/ape.html  \n",
              "24  https://www.azlyrics.com/lyrics/jinjer/dreadfu...  \n",
              "25  https://www.azlyrics.com/lyrics/jinjer/teacher...  \n",
              "26  https://www.azlyrics.com/lyrics/jinjer/perenni...  \n",
              "27  https://www.azlyrics.com/lyrics/jinjer/ontheto...  \n",
              "28  https://www.azlyrics.com/lyrics/jinjer/pitofco...  \n",
              "29  https://www.azlyrics.com/lyrics/jinjer/judgeme...  \n",
              "30  https://www.azlyrics.com/lyrics/jinjer/retrosp...  \n",
              "31  https://www.azlyrics.com/lyrics/jinjer/pausing...  \n",
              "32   https://www.azlyrics.com/lyrics/jinjer/noah.html  \n",
              "33  https://www.azlyrics.com/lyrics/jinjer/homebac...  \n",
              "34  https://www.azlyrics.com/lyrics/jinjer/theprop...  \n",
              "35  https://www.azlyrics.com/lyrics/jinjer/lainner...  "
            ]
          },
          "metadata": {}
        }
      ],
      "execution_count": 6,
      "metadata": {
        "ExecuteTime": {
          "end_time": "2020-01-11T08:41:38.703514Z",
          "start_time": "2020-01-11T08:41:30.233148Z"
        },
        "scrolled": true
      }
    },
    {
      "cell_type": "code",
      "source": [
        "# artiste_name_style= {\"Slipknot\":\"metal\"\n",
        "# ,\"I Prevail\":\"metal\"\n",
        "# ,\"DREAMERS\":\"Rock/Alternatif\"\n",
        "# ,\"Bring Me The Horizon\":\"metal\"\n",
        "# ,\"DIAMANTE\":\"metal\"\n",
        "# ,\"Motionless in White\":\"Rock\\Alternatif\"\n",
        "# ,\"Demon Hunter\":\"metal\"\n",
        "# ,\"Falling In Reverse\":\"metal\"\n",
        "# }\n",
        "artiste_name_style= {\"Slipknot\":\"metal\"\n",
        ",\"DREAMERS\":\"Rock/Alternatif\"\n",
        ",\"Bring Me The Horizon\":\"metal\"\n",
        ",\"Motionless in White\":\"Rock\\Alternatif\"\n",
        ",\"Falling In Reverse\":\"metal\"\n",
        ",\"Eminem\":\"rap\"\n",
        ",\"Justin Bieber\":\"pop\"\n",
        ",\"Post Malone\":\"rap\"\n",
        ",\"Billie Eilish\":\"pop\"\n",
        ", \"Mac Miller\":\"rap\"\n",
        "}\n",
        "artiste_name= [name for name in artiste_name_style.keys()]\n",
        "\n",
        "df= pd.DataFrame()\n",
        "for art in artiste_name:\n",
        "    print(art)\n",
        "    df= pd.concat([album_url_year(art, False), df], ignore_index= True)\n",
        "\n",
        "print(\"\\nFin\")"
      ],
      "outputs": [
        {
          "output_type": "stream",
          "name": "stdout",
          "text": [
            "Slipknot\n",
            "DREAMERS\n",
            "Bring Me The Horizon\n",
            "Motionless in White\n",
            "Falling In Reverse\n",
            "Eminem\n",
            "Justin Bieber\n",
            "Post Malone\n",
            "Billie Eilish\n",
            "Mac Miller\n",
            "\n",
            "Fin\n"
          ]
        }
      ],
      "execution_count": 7,
      "metadata": {
        "ExecuteTime": {
          "end_time": "2020-01-10T07:41:32.880618Z",
          "start_time": "2020-01-10T07:41:26.696596Z"
        }
      }
    },
    {
      "cell_type": "code",
      "source": [
        "#ajout colonne Style à partir du dictionnaire\n",
        "df[\"Style\"]= df[\"Artiste\"].map(artiste_name_style)\n",
        "df.head()"
      ],
      "outputs": [
        {
          "output_type": "execute_result",
          "execution_count": 8,
          "data": {
            "text/html": [
              "<div>\n",
              "<style scoped>\n",
              "    .dataframe tbody tr th:only-of-type {\n",
              "        vertical-align: middle;\n",
              "    }\n",
              "\n",
              "    .dataframe tbody tr th {\n",
              "        vertical-align: top;\n",
              "    }\n",
              "\n",
              "    .dataframe thead th {\n",
              "        text-align: right;\n",
              "    }\n",
              "</style>\n",
              "<table border=\"1\" class=\"dataframe\">\n",
              "  <thead>\n",
              "    <tr style=\"text-align: right;\">\n",
              "      <th></th>\n",
              "      <th>Artiste</th>\n",
              "      <th>Annee</th>\n",
              "      <th>Album</th>\n",
              "      <th>Url</th>\n",
              "      <th>Style</th>\n",
              "    </tr>\n",
              "  </thead>\n",
              "  <tbody>\n",
              "    <tr>\n",
              "      <th>0</th>\n",
              "      <td>Mac Miller</td>\n",
              "      <td>2009</td>\n",
              "      <td>The Jukebox: Prelude To Class Clown</td>\n",
              "      <td>https://www.azlyrics.com/lyrics/macmiller/intr...</td>\n",
              "      <td>rap</td>\n",
              "    </tr>\n",
              "    <tr>\n",
              "      <th>1</th>\n",
              "      <td>Mac Miller</td>\n",
              "      <td>2009</td>\n",
              "      <td>The Jukebox: Prelude To Class Clown</td>\n",
              "      <td>https://www.azlyrics.com/lyrics/macmiller/soun...</td>\n",
              "      <td>rap</td>\n",
              "    </tr>\n",
              "    <tr>\n",
              "      <th>2</th>\n",
              "      <td>Mac Miller</td>\n",
              "      <td>2009</td>\n",
              "      <td>The Jukebox: Prelude To Class Clown</td>\n",
              "      <td>https://www.azlyrics.com/lyrics/macmiller/barz...</td>\n",
              "      <td>rap</td>\n",
              "    </tr>\n",
              "    <tr>\n",
              "      <th>3</th>\n",
              "      <td>Mac Miller</td>\n",
              "      <td>2009</td>\n",
              "      <td>The Jukebox: Prelude To Class Clown</td>\n",
              "      <td>https://www.azlyrics.com/lyrics/macmiller/pahu...</td>\n",
              "      <td>rap</td>\n",
              "    </tr>\n",
              "    <tr>\n",
              "      <th>4</th>\n",
              "      <td>Mac Miller</td>\n",
              "      <td>2009</td>\n",
              "      <td>The Jukebox: Prelude To Class Clown</td>\n",
              "      <td>https://www.azlyrics.com/lyrics/macmiller/what...</td>\n",
              "      <td>rap</td>\n",
              "    </tr>\n",
              "  </tbody>\n",
              "</table>\n",
              "</div>"
            ],
            "text/plain": [
              "      Artiste Annee                                Album  \\\n",
              "0  Mac Miller  2009  The Jukebox: Prelude To Class Clown   \n",
              "1  Mac Miller  2009  The Jukebox: Prelude To Class Clown   \n",
              "2  Mac Miller  2009  The Jukebox: Prelude To Class Clown   \n",
              "3  Mac Miller  2009  The Jukebox: Prelude To Class Clown   \n",
              "4  Mac Miller  2009  The Jukebox: Prelude To Class Clown   \n",
              "\n",
              "                                                 Url Style  \n",
              "0  https://www.azlyrics.com/lyrics/macmiller/intr...   rap  \n",
              "1  https://www.azlyrics.com/lyrics/macmiller/soun...   rap  \n",
              "2  https://www.azlyrics.com/lyrics/macmiller/barz...   rap  \n",
              "3  https://www.azlyrics.com/lyrics/macmiller/pahu...   rap  \n",
              "4  https://www.azlyrics.com/lyrics/macmiller/what...   rap  "
            ]
          },
          "metadata": {}
        }
      ],
      "execution_count": 8,
      "metadata": {
        "ExecuteTime": {
          "end_time": "2020-01-10T07:41:32.907541Z",
          "start_time": "2020-01-10T07:41:32.884894Z"
        },
        "scrolled": true
      }
    },
    {
      "cell_type": "code",
      "source": [
        "def verification(df):\n",
        "    print(\"Vérifier si des valeurs sont None\")\n",
        "    for col in df.columns:\n",
        "        nul= (df[col].isnull()).sum()\n",
        "        sh= df.shape[0]\n",
        "        print(\"\\n\")\n",
        "        print(col)\n",
        "        print(nul)\n",
        "        print(\"Soit: {}% de valeurs None\".format((nul/sh)*100))\n",
        "    pass"
      ],
      "outputs": [],
      "execution_count": 7,
      "metadata": {
        "ExecuteTime": {
          "end_time": "2020-01-11T15:47:43.886513Z",
          "start_time": "2020-01-11T15:47:43.878561Z"
        }
      }
    },
    {
      "cell_type": "code",
      "source": [
        "#on enregistre le dataset contenant les url\n",
        "export_df= df.to_csv(\"data/dataset_url_lyrics.csv\", index= False, header= True)"
      ],
      "outputs": [],
      "execution_count": 11,
      "metadata": {
        "ExecuteTime": {
          "end_time": "2020-01-10T07:42:14.992242Z",
          "start_time": "2020-01-10T07:42:14.967265Z"
        }
      }
    },
    {
      "cell_type": "markdown",
      "source": [
        "## Transformation de nos URL en lyrics"
      ],
      "metadata": {
        "ExecuteTime": {
          "end_time": "2020-01-07T20:42:43.423571Z",
          "start_time": "2020-01-07T20:42:43.410607Z"
        }
      }
    },
    {
      "cell_type": "code",
      "source": [
        "df= pd.read_csv('data/dataset_url_lyrics.csv')\n",
        "print(df.shape)\n",
        "df.head()"
      ],
      "outputs": [
        {
          "output_type": "stream",
          "name": "stdout",
          "text": [
            "(1028, 5)\n"
          ]
        },
        {
          "output_type": "execute_result",
          "execution_count": 7,
          "data": {
            "text/html": [
              "<div>\n",
              "<style scoped>\n",
              "    .dataframe tbody tr th:only-of-type {\n",
              "        vertical-align: middle;\n",
              "    }\n",
              "\n",
              "    .dataframe tbody tr th {\n",
              "        vertical-align: top;\n",
              "    }\n",
              "\n",
              "    .dataframe thead th {\n",
              "        text-align: right;\n",
              "    }\n",
              "</style>\n",
              "<table border=\"1\" class=\"dataframe\">\n",
              "  <thead>\n",
              "    <tr style=\"text-align: right;\">\n",
              "      <th></th>\n",
              "      <th>Artiste</th>\n",
              "      <th>Annee</th>\n",
              "      <th>Album</th>\n",
              "      <th>Url</th>\n",
              "      <th>Style</th>\n",
              "    </tr>\n",
              "  </thead>\n",
              "  <tbody>\n",
              "    <tr>\n",
              "      <th>0</th>\n",
              "      <td>Mac Miller</td>\n",
              "      <td>2009</td>\n",
              "      <td>The Jukebox: Prelude To Class Clown</td>\n",
              "      <td>https://www.azlyrics.com/lyrics/macmiller/intr...</td>\n",
              "      <td>rap</td>\n",
              "    </tr>\n",
              "    <tr>\n",
              "      <th>1</th>\n",
              "      <td>Mac Miller</td>\n",
              "      <td>2009</td>\n",
              "      <td>The Jukebox: Prelude To Class Clown</td>\n",
              "      <td>https://www.azlyrics.com/lyrics/macmiller/soun...</td>\n",
              "      <td>rap</td>\n",
              "    </tr>\n",
              "    <tr>\n",
              "      <th>2</th>\n",
              "      <td>Mac Miller</td>\n",
              "      <td>2009</td>\n",
              "      <td>The Jukebox: Prelude To Class Clown</td>\n",
              "      <td>https://www.azlyrics.com/lyrics/macmiller/barz...</td>\n",
              "      <td>rap</td>\n",
              "    </tr>\n",
              "    <tr>\n",
              "      <th>3</th>\n",
              "      <td>Mac Miller</td>\n",
              "      <td>2009</td>\n",
              "      <td>The Jukebox: Prelude To Class Clown</td>\n",
              "      <td>https://www.azlyrics.com/lyrics/macmiller/pahu...</td>\n",
              "      <td>rap</td>\n",
              "    </tr>\n",
              "    <tr>\n",
              "      <th>4</th>\n",
              "      <td>Mac Miller</td>\n",
              "      <td>2009</td>\n",
              "      <td>The Jukebox: Prelude To Class Clown</td>\n",
              "      <td>https://www.azlyrics.com/lyrics/macmiller/what...</td>\n",
              "      <td>rap</td>\n",
              "    </tr>\n",
              "  </tbody>\n",
              "</table>\n",
              "</div>"
            ],
            "text/plain": [
              "      Artiste  Annee                                Album  \\\n",
              "0  Mac Miller   2009  The Jukebox: Prelude To Class Clown   \n",
              "1  Mac Miller   2009  The Jukebox: Prelude To Class Clown   \n",
              "2  Mac Miller   2009  The Jukebox: Prelude To Class Clown   \n",
              "3  Mac Miller   2009  The Jukebox: Prelude To Class Clown   \n",
              "4  Mac Miller   2009  The Jukebox: Prelude To Class Clown   \n",
              "\n",
              "                                                 Url Style  \n",
              "0  https://www.azlyrics.com/lyrics/macmiller/intr...   rap  \n",
              "1  https://www.azlyrics.com/lyrics/macmiller/soun...   rap  \n",
              "2  https://www.azlyrics.com/lyrics/macmiller/barz...   rap  \n",
              "3  https://www.azlyrics.com/lyrics/macmiller/pahu...   rap  \n",
              "4  https://www.azlyrics.com/lyrics/macmiller/what...   rap  "
            ]
          },
          "metadata": {}
        }
      ],
      "execution_count": 7,
      "metadata": {
        "ExecuteTime": {
          "end_time": "2020-01-10T12:47:36.486542Z",
          "start_time": "2020-01-10T12:47:36.445345Z"
        }
      }
    },
    {
      "cell_type": "code",
      "source": [
        "def pretransformation_lyric(url_son):\n",
        "    \"\"\"\n",
        "    \n",
        "    \"\"\"\n",
        "    try:\n",
        "        #on se connecte et on récupère la partie de la page avec les lyrics\n",
        "        page= requests.get(url_son)\n",
        "        soup= BeautifulSoup(page.text, 'html.parser')\n",
        "\n",
        "        lyric= str(page.content)\n",
        "        pattern= re.compile('(?:Sorry about that. -->)([\\s\\S]*)(?:-- MxM)')\n",
        "        res= pattern.search(lyric).group(1)\n",
        "\n",
        "        #On va transformer notre texte de telle sorte qu'il soit exploitable par nos Lemmnizer / Stemmenizer\n",
        "        #J'encode en #!utf8 pour accepter les \\n etc\n",
        "        res= res.encode('utf8').decode(\"unicode_escape\")\n",
        "        #J'y ai mis une balise que j'ai du mal à supprimer\n",
        "        banword= ['br', 'div', 'brbr']\n",
        "        #On tokenize notre text\n",
        "        tokenizer= TreebankWordTokenizer()\n",
        "        #Je sépare les élément tokenizer\n",
        "        tokenz= [','.join(tokenizer.tokenize(mot)) for mot in res.split()]\n",
        "\n",
        "        tokenz= [mot.replace(\",\", \"\").replace(\"<br>\", \"\") for mot in tokenz]\n",
        "        #J'enlève ce qui n'est pas du texte ou en espace\n",
        "        tokenz= [re.sub('[^\\w\\s]', ' ', mot) for mot in tokenz]\n",
        "        #Je supprime les espaces inutiles\n",
        "        tokenz= [mot.replace(' ','') for mot in tokenz]\n",
        "        #Et enfin j'applique ma liste de banword\n",
        "    #     text_clean= [mot for mot in tokenz if mot not in banword]\n",
        "        text_clean= ''\n",
        "        for mot in tokenz:\n",
        "            if mot not in banword:\n",
        "                text_clean += mot + ' '\n",
        "\n",
        "        #on fait un sleep entre 5 et 30 sec\n",
        "        time.sleep(np.random.randint(5, 40, 1))\n",
        "\n",
        "        return text_clean #sortie de cette facon pour utiliser lemma de spacy\n",
        "        \n",
        "    except:\n",
        "        return None"
      ],
      "outputs": [],
      "execution_count": 8,
      "metadata": {
        "ExecuteTime": {
          "end_time": "2020-01-11T15:47:49.048274Z",
          "start_time": "2020-01-11T15:47:49.031318Z"
        }
      }
    },
    {
      "cell_type": "code",
      "source": [
        "# liste_lyrics= [pretransformation_lyric(url) \\\n",
        "#               for url in df[\"Url\"].values]\n",
        "# liste_lyrics"
      ],
      "outputs": [],
      "execution_count": null,
      "metadata": {
        "ExecuteTime": {
          "end_time": "2020-01-08T17:11:22.876079Z",
          "start_time": "2020-01-08T17:11:22.871611Z"
        },
        "scrolled": true
      }
    },
    {
      "cell_type": "code",
      "source": [
        "print(df.shape)\n",
        "df = df.sample(frac=1).reset_index(drop=True)\n",
        "export_df= df.to_csv(\"random_dataset_url_lyrics.csv\", index= False, header= True)\n",
        "df.head()"
      ],
      "outputs": [
        {
          "output_type": "stream",
          "name": "stdout",
          "text": [
            "(1028, 5)\n"
          ]
        },
        {
          "output_type": "execute_result",
          "execution_count": 9,
          "data": {
            "text/html": [
              "<div>\n",
              "<style scoped>\n",
              "    .dataframe tbody tr th:only-of-type {\n",
              "        vertical-align: middle;\n",
              "    }\n",
              "\n",
              "    .dataframe tbody tr th {\n",
              "        vertical-align: top;\n",
              "    }\n",
              "\n",
              "    .dataframe thead th {\n",
              "        text-align: right;\n",
              "    }\n",
              "</style>\n",
              "<table border=\"1\" class=\"dataframe\">\n",
              "  <thead>\n",
              "    <tr style=\"text-align: right;\">\n",
              "      <th></th>\n",
              "      <th>Artiste</th>\n",
              "      <th>Annee</th>\n",
              "      <th>Album</th>\n",
              "      <th>Url</th>\n",
              "      <th>Style</th>\n",
              "    </tr>\n",
              "  </thead>\n",
              "  <tbody>\n",
              "    <tr>\n",
              "      <th>0</th>\n",
              "      <td>Eminem</td>\n",
              "      <td>2011</td>\n",
              "      <td>Straight From The Vault</td>\n",
              "      <td>https://www.azlyrics.com/lyrics/eminem/goat.html</td>\n",
              "      <td>rap</td>\n",
              "    </tr>\n",
              "    <tr>\n",
              "      <th>1</th>\n",
              "      <td>Eminem</td>\n",
              "      <td>2009</td>\n",
              "      <td>Relapse</td>\n",
              "      <td>https://www.azlyrics.com/lyrics/eminem/crackab...</td>\n",
              "      <td>rap</td>\n",
              "    </tr>\n",
              "    <tr>\n",
              "      <th>2</th>\n",
              "      <td>Falling In Reverse</td>\n",
              "      <td>2015</td>\n",
              "      <td>Just Like You</td>\n",
              "      <td>https://www.azlyrics.com/lyrics/fallinginrever...</td>\n",
              "      <td>metal</td>\n",
              "    </tr>\n",
              "    <tr>\n",
              "      <th>3</th>\n",
              "      <td>Eminem</td>\n",
              "      <td>2002</td>\n",
              "      <td>The Eminem Show</td>\n",
              "      <td>https://www.azlyrics.com/lyrics/eminem/singfor...</td>\n",
              "      <td>rap</td>\n",
              "    </tr>\n",
              "    <tr>\n",
              "      <th>4</th>\n",
              "      <td>Justin Bieber</td>\n",
              "      <td>2009</td>\n",
              "      <td>My World</td>\n",
              "      <td>https://www.azlyrics.com/lyrics/justinbieber/o...</td>\n",
              "      <td>pop</td>\n",
              "    </tr>\n",
              "  </tbody>\n",
              "</table>\n",
              "</div>"
            ],
            "text/plain": [
              "              Artiste  Annee                    Album  \\\n",
              "0              Eminem   2011  Straight From The Vault   \n",
              "1              Eminem   2009                  Relapse   \n",
              "2  Falling In Reverse   2015            Just Like You   \n",
              "3              Eminem   2002          The Eminem Show   \n",
              "4       Justin Bieber   2009                 My World   \n",
              "\n",
              "                                                 Url  Style  \n",
              "0   https://www.azlyrics.com/lyrics/eminem/goat.html    rap  \n",
              "1  https://www.azlyrics.com/lyrics/eminem/crackab...    rap  \n",
              "2  https://www.azlyrics.com/lyrics/fallinginrever...  metal  \n",
              "3  https://www.azlyrics.com/lyrics/eminem/singfor...    rap  \n",
              "4  https://www.azlyrics.com/lyrics/justinbieber/o...    pop  "
            ]
          },
          "metadata": {}
        }
      ],
      "execution_count": 9,
      "metadata": {
        "ExecuteTime": {
          "end_time": "2020-01-10T12:47:44.813785Z",
          "start_time": "2020-01-10T12:47:44.793411Z"
        }
      }
    },
    {
      "cell_type": "code",
      "source": [
        "df[\"Artiste\"].unique()"
      ],
      "outputs": [
        {
          "output_type": "execute_result",
          "execution_count": 10,
          "data": {
            "text/plain": [
              "array(['Eminem', 'Falling In Reverse', 'Justin Bieber', 'Slipknot',\n",
              "       'Mac Miller', 'DREAMERS', 'Bring Me The Horizon', 'Post Malone',\n",
              "       'Billie Eilish', 'Motionless in White'], dtype=object)"
            ]
          },
          "metadata": {}
        }
      ],
      "execution_count": 10,
      "metadata": {
        "ExecuteTime": {
          "end_time": "2020-01-10T12:47:48.115305Z",
          "start_time": "2020-01-10T12:47:48.106860Z"
        }
      }
    },
    {
      "cell_type": "code",
      "source": [
        "#on va scinder notre dataset pour faire plusieurs set de web scraping\n",
        "df_1= df.iloc[:200,:]\n",
        "df_2= df.iloc[200:400,:]\n",
        "df_3= df.iloc[400:600,:]\n",
        "df_4= df.iloc[600:800,:]\n",
        "df_5= df.iloc[800:1000,:]\n",
        "df_6= df.iloc[1000:df.shape[0],:]"
      ],
      "outputs": [],
      "execution_count": 11,
      "metadata": {
        "ExecuteTime": {
          "end_time": "2020-01-10T12:47:50.003396Z",
          "start_time": "2020-01-10T12:47:49.986802Z"
        }
      }
    },
    {
      "cell_type": "code",
      "source": [
        "df_1[\"test\"]= df_1.apply(lambda row: pretransformation_lyric(row[3])\n",
        "                     ,axis= 1)\n",
        "#pour gérer les erreurs, tester si la page nous a repéré, si oui ==> capcha ou acces denied ?"
      ],
      "outputs": [
        {
          "output_type": "stream",
          "name": "stderr",
          "text": [
            "C:\\Users\\Wenceslas\\Anaconda3\\envs\\cours\\lib\\site-packages\\ipykernel_launcher.py:2: SettingWithCopyWarning: \n",
            "A value is trying to be set on a copy of a slice from a DataFrame.\n",
            "Try using .loc[row_indexer,col_indexer] = value instead\n",
            "\n",
            "See the caveats in the documentation: http://pandas.pydata.org/pandas-docs/stable/indexing.html#indexing-view-versus-copy\n",
            "  \n"
          ]
        }
      ],
      "execution_count": 12,
      "metadata": {
        "ExecuteTime": {
          "end_time": "2020-01-10T13:56:18.212269Z",
          "start_time": "2020-01-10T12:47:52.971368Z"
        },
        "scrolled": true
      }
    },
    {
      "cell_type": "code",
      "source": [
        "print(df_1.shape)\n",
        "verification(df_1)"
      ],
      "outputs": [
        {
          "output_type": "stream",
          "name": "stdout",
          "text": [
            "(200, 6)\n",
            "Vérifier si des valeurs sont None\n",
            "\n",
            "\n",
            "Artiste\n",
            "0\n",
            "Soit: 0.0% de valeur None\n",
            "\n",
            "\n",
            "Annee\n",
            "0\n",
            "Soit: 0.0% de valeur None\n",
            "\n",
            "\n",
            "Album\n",
            "0\n",
            "Soit: 0.0% de valeur None\n",
            "\n",
            "\n",
            "Url\n",
            "0\n",
            "Soit: 0.0% de valeur None\n",
            "\n",
            "\n",
            "Style\n",
            "0\n",
            "Soit: 0.0% de valeur None\n",
            "\n",
            "\n",
            "test\n",
            "4\n",
            "Soit: 0.02% de valeur None\n"
          ]
        }
      ],
      "execution_count": 13,
      "metadata": {
        "ExecuteTime": {
          "end_time": "2020-01-10T13:56:18.266259Z",
          "start_time": "2020-01-10T13:56:18.238131Z"
        }
      }
    },
    {
      "cell_type": "code",
      "source": [
        "export_df= df_1.to_csv(\"data/01_dataset_lyrics.csv\", index= False, header= True)"
      ],
      "outputs": [],
      "execution_count": 15,
      "metadata": {
        "ExecuteTime": {
          "end_time": "2020-01-10T13:56:59.562299Z",
          "start_time": "2020-01-10T13:56:59.525274Z"
        }
      }
    },
    {
      "cell_type": "code",
      "source": [
        "df_2[\"test\"]= df_2.apply(lambda row: pretransformation_lyric(row[3])\n",
        "                     ,axis= 1)\n",
        "#pour gérer les erreurs, tester si la page nous a repéré, si oui ==> capcha ou acces denied ?\n",
        "print(df_2.shape)\n",
        "verification(df_2)"
      ],
      "outputs": [
        {
          "output_type": "stream",
          "name": "stdout",
          "text": [
            "(200, 6)\n",
            "Vérifier si des valeurs sont None\n",
            "\n",
            "\n",
            "Artiste\n",
            "0\n",
            "Soit: 0.0% de valeur None\n",
            "\n",
            "\n",
            "Annee\n",
            "0\n",
            "Soit: 0.0% de valeur None\n",
            "\n",
            "\n",
            "Album\n",
            "0\n",
            "Soit: 0.0% de valeur None\n",
            "\n",
            "\n",
            "Url\n",
            "0\n",
            "Soit: 0.0% de valeur None\n",
            "\n",
            "\n",
            "Style\n",
            "0\n",
            "Soit: 0.0% de valeur None\n",
            "\n",
            "\n",
            "test\n",
            "0\n",
            "Soit: 0.0% de valeur None\n"
          ]
        },
        {
          "output_type": "stream",
          "name": "stderr",
          "text": [
            "C:\\Users\\Wenceslas\\Anaconda3\\envs\\cours\\lib\\site-packages\\ipykernel_launcher.py:2: SettingWithCopyWarning: \n",
            "A value is trying to be set on a copy of a slice from a DataFrame.\n",
            "Try using .loc[row_indexer,col_indexer] = value instead\n",
            "\n",
            "See the caveats in the documentation: http://pandas.pydata.org/pandas-docs/stable/indexing.html#indexing-view-versus-copy\n",
            "  \n"
          ]
        }
      ],
      "execution_count": 17,
      "metadata": {
        "ExecuteTime": {
          "end_time": "2020-01-10T15:15:15.684207Z",
          "start_time": "2020-01-10T14:01:15.829062Z"
        }
      }
    },
    {
      "cell_type": "code",
      "source": [
        "export_df= df_2.to_csv(\"data/02_dataset_lyrics.csv\", index= False, header= True)"
      ],
      "outputs": [],
      "execution_count": 18,
      "metadata": {
        "ExecuteTime": {
          "end_time": "2020-01-10T15:22:18.209102Z",
          "start_time": "2020-01-10T15:22:18.175723Z"
        }
      }
    },
    {
      "cell_type": "code",
      "source": [
        "df_3[\"test\"]= df_3.apply(lambda row: pretransformation_lyric(row[3])\n",
        "                     ,axis= 1)\n",
        "#pour gérer les erreurs, tester si la page nous a repéré, si oui ==> capcha ou acces denied ?\n",
        "print(df_3.shape)\n",
        "verification(df_3)"
      ],
      "outputs": [
        {
          "output_type": "stream",
          "name": "stdout",
          "text": [
            "(200, 6)\n",
            "Vérifier si des valeurs sont None\n",
            "\n",
            "\n",
            "Artiste\n",
            "0\n",
            "Soit: 0.0% de valeur None\n",
            "\n",
            "\n",
            "Annee\n",
            "0\n",
            "Soit: 0.0% de valeur None\n",
            "\n",
            "\n",
            "Album\n",
            "0\n",
            "Soit: 0.0% de valeur None\n",
            "\n",
            "\n",
            "Url\n",
            "0\n",
            "Soit: 0.0% de valeur None\n",
            "\n",
            "\n",
            "Style\n",
            "0\n",
            "Soit: 0.0% de valeur None\n",
            "\n",
            "\n",
            "test\n",
            "1\n",
            "Soit: 0.005% de valeur None\n"
          ]
        },
        {
          "output_type": "stream",
          "name": "stderr",
          "text": [
            "C:\\Users\\Wenceslas\\Anaconda3\\envs\\cours\\lib\\site-packages\\ipykernel_launcher.py:2: SettingWithCopyWarning: \n",
            "A value is trying to be set on a copy of a slice from a DataFrame.\n",
            "Try using .loc[row_indexer,col_indexer] = value instead\n",
            "\n",
            "See the caveats in the documentation: http://pandas.pydata.org/pandas-docs/stable/indexing.html#indexing-view-versus-copy\n",
            "  \n"
          ]
        }
      ],
      "execution_count": 19,
      "metadata": {
        "ExecuteTime": {
          "end_time": "2020-01-10T16:51:23.760207Z",
          "start_time": "2020-01-10T15:39:26.779501Z"
        }
      }
    },
    {
      "cell_type": "code",
      "source": [
        "export_df= df_3.to_csv(\"data/03_dataset_lyrics.csv\", index= False, header= True)"
      ],
      "outputs": [],
      "execution_count": 20,
      "metadata": {
        "ExecuteTime": {
          "end_time": "2020-01-10T16:51:32.377222Z",
          "start_time": "2020-01-10T16:51:32.350342Z"
        }
      }
    },
    {
      "cell_type": "code",
      "source": [
        "df= pd.read_csv(\"data/random_dataset_url_lyrics.csv\")"
      ],
      "outputs": [],
      "execution_count": 9,
      "metadata": {
        "ExecuteTime": {
          "end_time": "2020-01-11T15:48:08.102270Z",
          "start_time": "2020-01-11T15:48:08.052405Z"
        }
      }
    },
    {
      "cell_type": "code",
      "source": [
        "df_4= df.iloc[600:800,:]\n",
        "df_5= df.iloc[800:1000,:]\n",
        "df_6= df.iloc[1000:df.shape[0],:]"
      ],
      "outputs": [],
      "execution_count": 10,
      "metadata": {
        "ExecuteTime": {
          "end_time": "2020-01-11T15:48:08.504500Z",
          "start_time": "2020-01-11T15:48:08.496521Z"
        }
      }
    },
    {
      "cell_type": "code",
      "source": [
        "df_4[\"test\"]= df_4.apply(lambda row: pretransformation_lyric(row[3])\n",
        "                     ,axis= 1)\n",
        "#pour gérer les erreurs, tester si la page nous a repéré, si oui ==> capcha ou acces denied ?\n",
        "print(df_4.shape)\n",
        "verification(df_4)"
      ],
      "outputs": [
        {
          "output_type": "stream",
          "name": "stdout",
          "text": [
            "(200, 6)\n",
            "Vérifier si des valeurs sont None\n",
            "\n",
            "\n",
            "Artiste\n",
            "0\n",
            "Soit: 0.0% de valeur None\n",
            "\n",
            "\n",
            "Annee\n",
            "0\n",
            "Soit: 0.0% de valeur None\n",
            "\n",
            "\n",
            "Album\n",
            "0\n",
            "Soit: 0.0% de valeur None\n",
            "\n",
            "\n",
            "Url\n",
            "0\n",
            "Soit: 0.0% de valeur None\n",
            "\n",
            "\n",
            "Style\n",
            "0\n",
            "Soit: 0.0% de valeur None\n",
            "\n",
            "\n",
            "test\n",
            "1\n",
            "Soit: 0.5% de valeur None\n"
          ]
        },
        {
          "output_type": "stream",
          "name": "stderr",
          "text": [
            "C:\\Users\\Wenceslas\\Anaconda3\\envs\\cours\\lib\\site-packages\\ipykernel_launcher.py:2: SettingWithCopyWarning: \n",
            "A value is trying to be set on a copy of a slice from a DataFrame.\n",
            "Try using .loc[row_indexer,col_indexer] = value instead\n",
            "\n",
            "See the caveats in the documentation: http://pandas.pydata.org/pandas-docs/stable/indexing.html#indexing-view-versus-copy\n",
            "  \n"
          ]
        }
      ],
      "execution_count": 11,
      "metadata": {
        "ExecuteTime": {
          "end_time": "2020-01-11T17:06:39.989656Z",
          "start_time": "2020-01-11T15:48:09.990091Z"
        }
      }
    },
    {
      "cell_type": "code",
      "source": [
        "export_df= df_4.to_csv(\"data/04_dataset_lyrics.csv\", index= False, header= True)"
      ],
      "outputs": [],
      "execution_count": 12,
      "metadata": {
        "ExecuteTime": {
          "end_time": "2020-01-11T17:10:28.722261Z",
          "start_time": "2020-01-11T17:10:28.682330Z"
        }
      }
    },
    {
      "cell_type": "code",
      "source": [
        "df_5[\"test\"]= df_5.apply(lambda row: pretransformation_lyric(row[3])\n",
        "                     ,axis= 1)\n",
        "#pour gérer les erreurs, tester si la page nous a repéré, si oui ==> capcha ou acces denied ?\n",
        "print(df_5.shape)\n",
        "verification(df_5)"
      ],
      "outputs": [
        {
          "output_type": "stream",
          "name": "stdout",
          "text": [
            "(200, 6)\n",
            "Vérifier si des valeurs sont None\n",
            "\n",
            "\n",
            "Artiste\n",
            "0\n",
            "Soit: 0.0% de valeur None\n",
            "\n",
            "\n",
            "Annee\n",
            "0\n",
            "Soit: 0.0% de valeur None\n",
            "\n",
            "\n",
            "Album\n",
            "0\n",
            "Soit: 0.0% de valeur None\n",
            "\n",
            "\n",
            "Url\n",
            "0\n",
            "Soit: 0.0% de valeur None\n",
            "\n",
            "\n",
            "Style\n",
            "0\n",
            "Soit: 0.0% de valeur None\n",
            "\n",
            "\n",
            "test\n",
            "1\n",
            "Soit: 0.5% de valeur None\n"
          ]
        },
        {
          "output_type": "stream",
          "name": "stderr",
          "text": [
            "C:\\Users\\Wenceslas\\Anaconda3\\envs\\cours\\lib\\site-packages\\ipykernel_launcher.py:2: SettingWithCopyWarning: \n",
            "A value is trying to be set on a copy of a slice from a DataFrame.\n",
            "Try using .loc[row_indexer,col_indexer] = value instead\n",
            "\n",
            "See the caveats in the documentation: http://pandas.pydata.org/pandas-docs/stable/indexing.html#indexing-view-versus-copy\n",
            "  \n"
          ]
        }
      ],
      "execution_count": 13,
      "metadata": {
        "ExecuteTime": {
          "end_time": "2020-01-11T18:30:37.372359Z",
          "start_time": "2020-01-11T17:12:49.276356Z"
        }
      }
    },
    {
      "cell_type": "code",
      "source": [
        "export_df= df_5.to_csv(\"data/05_dataset_lyrics.csv\", index= False, header= True)"
      ],
      "outputs": [],
      "execution_count": 18,
      "metadata": {
        "ExecuteTime": {
          "end_time": "2020-01-11T18:33:57.107894Z",
          "start_time": "2020-01-11T18:33:57.072308Z"
        }
      }
    },
    {
      "cell_type": "code",
      "source": [
        "df_6[\"test\"]= df_6.apply(lambda row: pretransformation_lyric(row[3])\n",
        "                     ,axis= 1)\n",
        "#pour gérer les erreurs, tester si la page nous a repéré, si oui ==> capcha ou acces denied ?\n",
        "print(df_6.shape)\n",
        "verification(df_6)"
      ],
      "outputs": [
        {
          "output_type": "stream",
          "name": "stdout",
          "text": [
            "(28, 6)\n",
            "Vérifier si des valeurs sont None\n",
            "\n",
            "\n",
            "Artiste\n",
            "0\n",
            "Soit: 0.0% de valeur None\n",
            "\n",
            "\n",
            "Annee\n",
            "0\n",
            "Soit: 0.0% de valeur None\n",
            "\n",
            "\n",
            "Album\n",
            "0\n",
            "Soit: 0.0% de valeur None\n",
            "\n",
            "\n",
            "Url\n",
            "0\n",
            "Soit: 0.0% de valeur None\n",
            "\n",
            "\n",
            "Style\n",
            "0\n",
            "Soit: 0.0% de valeur None\n",
            "\n",
            "\n",
            "test\n",
            "1\n",
            "Soit: 3.571428571428571% de valeur None\n"
          ]
        },
        {
          "output_type": "stream",
          "name": "stderr",
          "text": [
            "C:\\Users\\Wenceslas\\Anaconda3\\envs\\cours\\lib\\site-packages\\ipykernel_launcher.py:2: SettingWithCopyWarning: \n",
            "A value is trying to be set on a copy of a slice from a DataFrame.\n",
            "Try using .loc[row_indexer,col_indexer] = value instead\n",
            "\n",
            "See the caveats in the documentation: http://pandas.pydata.org/pandas-docs/stable/indexing.html#indexing-view-versus-copy\n",
            "  \n"
          ]
        }
      ],
      "execution_count": 19,
      "metadata": {
        "ExecuteTime": {
          "end_time": "2020-01-11T18:43:42.222817Z",
          "start_time": "2020-01-11T18:34:13.904829Z"
        }
      }
    },
    {
      "cell_type": "code",
      "source": [
        "export_df= df_6.to_csv(\"data/06_dataset_lyrics.csv\", index= False, header= True)"
      ],
      "outputs": [],
      "execution_count": 20,
      "metadata": {
        "ExecuteTime": {
          "end_time": "2020-01-11T19:21:00.365729Z",
          "start_time": "2020-01-11T19:21:00.350843Z"
        }
      }
    }
  ],
  "metadata": {
    "kernelspec": {
      "display_name": "Python 3",
      "language": "python",
      "name": "python3"
    },
    "language_info": {
      "codemirror_mode": {
        "name": "ipython",
        "version": 3
      },
      "file_extension": ".py",
      "mimetype": "text/x-python",
      "name": "python",
      "nbconvert_exporter": "python",
      "pygments_lexer": "ipython3",
      "version": "3.7.4"
    },
    "nteract": {
      "version": "0.15.0"
    }
  },
  "nbformat": 4,
  "nbformat_minor": 2
}