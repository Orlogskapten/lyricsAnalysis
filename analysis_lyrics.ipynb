{
 "cells": [
  {
   "cell_type": "code",
   "execution_count": null,
   "metadata": {
    "ExecuteTime": {
     "end_time": "2020-01-14T20:27:51.189075Z",
     "start_time": "2020-01-14T20:27:51.182089Z"
    }
   },
   "outputs": [],
   "source": [
    "import pandas as pd\n",
    "import numpy as np\n",
    "\n",
    "import time\n",
    "import spacy\n",
    "import re\n",
    "\n",
    "import sys\n",
    "\n",
    "import matplotlib.pyplot as plt\n",
    "import matplotlib as mpl\n",
    "import seaborn as sns\n",
    "import itertools\n",
    "\n",
    "from random import getrandbits\n",
    "from random import seed"
   ]
  },
  {
   "cell_type": "code",
   "execution_count": null,
   "metadata": {
    "ExecuteTime": {
     "end_time": "2020-01-14T20:27:51.310781Z",
     "start_time": "2020-01-14T20:27:51.192061Z"
    }
   },
   "outputs": [],
   "source": [
    "#import et merge des datasets\n",
    "data_lyrics= pd.DataFrame()\n",
    "for i in range(6):\n",
    "    try: #si mon fichier existe\n",
    "        print(i)\n",
    "        data_lyrics= pd.concat([data_lyrics, \n",
    "                                pd.read_csv(\"data/0{}_dataset_lyrics.csv\".format(i+1))])\n",
    "    except:\n",
    "        #au cas ou , si mon fichier n'existe pas alors j'ajoute un df vide\n",
    "        data_lyrics= pd.concat([data_lyrics, pd.DataFrame()])\n",
    "        \n",
    "data_lyrics= data_lyrics.rename({\"test\":\"Lyrics\"}, axis=1)"
   ]
  },
  {
   "cell_type": "code",
   "execution_count": null,
   "metadata": {
    "ExecuteTime": {
     "end_time": "2020-01-14T20:27:51.347650Z",
     "start_time": "2020-01-14T20:27:51.313737Z"
    }
   },
   "outputs": [],
   "source": [
    "print(data_lyrics.shape)\n",
    "# print(data_lyrics.head(1))\n",
    "print(data_lyrics[\"Artiste\"].unique())\n",
    "print(data_lyrics[\"Style\"].unique()) #erreur dnas l'écriture de la modalité\n",
    "#Rock Alternatif\n",
    "dico_map= {\"Rock\\\\Alternatif\":\"Rock/Alternatif\",\n",
    "           \"Rock/Alternatif\":\"Rock/Alternatif\",\n",
    "          \"metal\":\"Metal\",\n",
    "          \"pop\":\"Pop\",\n",
    "           \"rap\":\"Rap\",\n",
    "          }\n",
    "data_lyrics[\"Style\"]= data_lyrics[\"Style\"].map(dico_map)\n",
    "data_lyrics[\"Style\"].unique()"
   ]
  },
  {
   "cell_type": "code",
   "execution_count": null,
   "metadata": {
    "ExecuteTime": {
     "end_time": "2020-01-14T20:27:51.361607Z",
     "start_time": "2020-01-14T20:27:51.351635Z"
    }
   },
   "outputs": [],
   "source": [
    "data_lyrics= data_lyrics.drop(\"Url\", axis= 1)\n",
    "data_lyrics.columns"
   ]
  },
  {
   "cell_type": "code",
   "execution_count": null,
   "metadata": {
    "ExecuteTime": {
     "end_time": "2020-01-14T20:27:51.380557Z",
     "start_time": "2020-01-14T20:27:51.363602Z"
    }
   },
   "outputs": [],
   "source": [
    "data_lyrics.head()\n",
    "#Necessité de traiter les lyrics ==> Quand on a un featuring, le chanteur qui chante \n",
    "#est reperé grace au i`AUTOR NAME`i"
   ]
  },
  {
   "cell_type": "code",
   "execution_count": null,
   "metadata": {
    "ExecuteTime": {
     "end_time": "2020-01-14T20:27:51.417458Z",
     "start_time": "2020-01-14T20:27:51.383548Z"
    }
   },
   "outputs": [],
   "source": [
    "#on va creer un dico pour associer à chaque artiste son style\n",
    "#le style reste constant dans le temps\n",
    "dico_artiste_style= {artiste: data_lyrics[data_lyrics[\"Artiste\"] == artiste]\\\n",
    "                     .iloc[0][\"Style\"]\n",
    "                     for artiste in data_lyrics[\"Artiste\"].unique()}\n",
    "print(dico_artiste_style)\n",
    "\n",
    "#on peut drop la colonne\n",
    "data_lyrics= data_lyrics.drop(\"Style\", axis= 1)\n",
    "data_lyrics.reset_index(inplace= True, drop= True)\n",
    "data_lyrics.columns"
   ]
  },
  {
   "cell_type": "code",
   "execution_count": null,
   "metadata": {
    "ExecuteTime": {
     "end_time": "2020-01-14T20:27:51.436407Z",
     "start_time": "2020-01-14T20:27:51.424442Z"
    }
   },
   "outputs": [],
   "source": [
    "test_lyrics= data_lyrics[\"Lyrics\"][9]\n",
    "pattern_i= re.compile('i[\\S]*i\\s')\n",
    "pattern_i.sub(\"\",test_lyrics)\n",
    "test_lyrics"
   ]
  },
  {
   "cell_type": "code",
   "execution_count": null,
   "metadata": {
    "ExecuteTime": {
     "end_time": "2020-01-14T20:27:51.526167Z",
     "start_time": "2020-01-14T20:27:51.443390Z"
    },
    "scrolled": true
   },
   "outputs": [],
   "source": [
    "#traitement des None\n",
    "def verification(df):\n",
    "    \"\"\"\n",
    "    Me permet de vérifier les quantités de valeurs nulles dans mes colonnes\n",
    "    \"\"\"\n",
    "    print(\"Vérifier si des valeurs sont None\")\n",
    "    for col in df.columns:\n",
    "        nul= (df[col].isnull()).sum()\n",
    "        sh= df.shape[0]\n",
    "        print(\"\\n\")\n",
    "        print(col)\n",
    "        print(nul)\n",
    "        print(\"Soit: {}% de valeurs None\".format((nul/sh)*100))\n",
    "    pass\n",
    "\n",
    "verification(data_lyrics)\n",
    "print(data_lyrics.shape)\n",
    "\n",
    "#drop les lignes ou les lyrics manquent\n",
    "data_lyrics= data_lyrics[data_lyrics[\"Lyrics\"].notnull()]\n",
    "verification(data_lyrics)\n",
    "data_lyrics.shape"
   ]
  },
  {
   "cell_type": "markdown",
   "metadata": {},
   "source": [
    "## Evolution du nombre de mot unique par auteur"
   ]
  },
  {
   "cell_type": "code",
   "execution_count": null,
   "metadata": {
    "ExecuteTime": {
     "end_time": "2020-01-14T20:27:51.579026Z",
     "start_time": "2020-01-14T20:27:51.529160Z"
    },
    "scrolled": true
   },
   "outputs": [],
   "source": [
    "#nombre de musique pour chaque auteur et par année\n",
    "data_lyrics[[\"Artiste\", \"Annee\", \"Lyrics\"]].groupby([\"Artiste\", \"Annee\"]).agg([\"count\"])"
   ]
  },
  {
   "cell_type": "code",
   "execution_count": null,
   "metadata": {
    "ExecuteTime": {
     "end_time": "2020-01-14T20:27:51.590994Z",
     "start_time": "2020-01-14T20:27:51.581020Z"
    },
    "scrolled": true
   },
   "outputs": [],
   "source": [
    "#multi index dataframe\n",
    "data_multi= data_lyrics.set_index([\"Artiste\"])\\\n",
    ".sort_values([\"Artiste\"])"
   ]
  },
  {
   "cell_type": "code",
   "execution_count": null,
   "metadata": {
    "ExecuteTime": {
     "end_time": "2020-01-14T20:27:51.610942Z",
     "start_time": "2020-01-14T20:27:51.593986Z"
    }
   },
   "outputs": [],
   "source": [
    "data_multi.head(10)"
   ]
  },
  {
   "cell_type": "code",
   "execution_count": null,
   "metadata": {
    "ExecuteTime": {
     "end_time": "2020-01-14T20:27:51.750568Z",
     "start_time": "2020-01-14T20:27:51.613934Z"
    }
   },
   "outputs": [],
   "source": [
    "test= data_multi.groupby([\"Artiste\", \"Annee\"])[\"Lyrics\"].agg(\" \".join).to_frame()\n",
    "test[\"compteur\"]= test[\"Lyrics\"].apply(lambda x: len(set(x.split(\" \"))))\n",
    "test.reset_index(level=1, inplace=True)\n",
    "test.head(10)"
   ]
  },
  {
   "cell_type": "code",
   "execution_count": null,
   "metadata": {
    "ExecuteTime": {
     "end_time": "2020-01-14T20:27:52.300632Z",
     "start_time": "2020-01-14T20:27:51.754557Z"
    }
   },
   "outputs": [],
   "source": [
    "#evolution du nombres de mots uniques par artiste par an\n",
    "def plot_per_artist_per_year(df, col, titre=\"Evolution du nombre de mots uniques par an\"):\n",
    "    \"\"\"\n",
    "    Permet de plot l'évolution par artiste par an d'une métrique souhaité, comme le nombre de mots\n",
    "    uniques ou bien le nombre de mot unique par musique en moyenne\n",
    "    -df: le df doit être de type ==> index Artiste, 1 colonne Annee sort, et la colonne \n",
    "        de notre métrique\n",
    "    -col: c'est le nom de la métrique que l'on retrouve dans df\n",
    "    \"\"\"\n",
    "    seed(10)\n",
    "    artiste_name= list(test.index.get_level_values('Artiste').unique())\n",
    "\n",
    "    fig= plt.figure(figsize=(8,5))\n",
    "    sns.set(style=\"darkgrid\")\n",
    "    cycled= itertools.cycle('bgrcmykwy')\n",
    "\n",
    "    for art in artiste_name:\n",
    "        year= list(df.query(\"Artiste == '{}'\".format(art))[\"Annee\"])\n",
    "        data= list(df.query(\"Artiste == '{}'\".format(art))[col])\n",
    "    #     print(data)\n",
    "    #     print(year)\n",
    "        line=\"\"\n",
    "        if bool(getrandbits(1)):\n",
    "            line=\"--\"\n",
    "        else:\n",
    "            line=\"-\"\n",
    "        plt.plot(year, data, label= art, color= next(cycled), linestyle= line)\n",
    "\n",
    "\n",
    "    #pour faire sortir la legende du graphique\n",
    "    plt.title(titre, fontsize= 15)\n",
    "    plt.legend(bbox_to_anchor=(1.05, 1), loc=2, borderaxespad=0.)\n",
    "    plt.show()\n",
    "    pass\n",
    "\n",
    "plot_per_artist_per_year(test, \"compteur\")"
   ]
  },
  {
   "cell_type": "markdown",
   "metadata": {
    "ExecuteTime": {
     "end_time": "2020-01-11T18:26:23.703322Z",
     "start_time": "2020-01-11T18:26:23.692364Z"
    }
   },
   "source": [
    "### Remarque\n",
    "\n",
    "Les rappeurs sont largement au dessus des autres artistes en terme de nombre de mots uniques par année\n",
    "\n",
    "Peut-être existe t-il un lien entre nombre de musique et le nombre de mots uniques."
   ]
  },
  {
   "cell_type": "code",
   "execution_count": null,
   "metadata": {
    "ExecuteTime": {
     "end_time": "2020-01-14T20:27:52.884295Z",
     "start_time": "2020-01-14T20:27:52.302619Z"
    }
   },
   "outputs": [],
   "source": [
    "nb_song_per_year= data_lyrics[[\"Artiste\", \"Annee\", \"Lyrics\"]]\\\n",
    "                    .groupby([\"Artiste\", \"Annee\"])\\\n",
    "                    .count()\n",
    "\n",
    "nb_song_per_year= nb_song_per_year.reset_index(level=1).sort_index().drop(\"Annee\", axis= 1)\n",
    "nb_song_per_year\n",
    "\n",
    "per_song= pd.concat([test, nb_song_per_year], axis= 1)\n",
    "per_song[\"mot_unique_per_song\"]= per_song.apply(lambda row: row[2]/row[3], axis= 1)\n",
    "\n",
    "plot_per_artist_per_year(per_song, \"mot_unique_per_song\")\n",
    "per_song.head(10)"
   ]
  },
  {
   "cell_type": "markdown",
   "metadata": {},
   "source": [
    "## Remarque\n"
   ]
  },
  {
   "cell_type": "markdown",
   "metadata": {},
   "source": [
    "## Evolution du nombre de mot unique par style"
   ]
  },
  {
   "cell_type": "code",
   "execution_count": null,
   "metadata": {
    "ExecuteTime": {
     "end_time": "2020-01-14T20:27:53.011507Z",
     "start_time": "2020-01-14T20:27:52.887288Z"
    }
   },
   "outputs": [],
   "source": [
    "#on va faire la même mais par style de musique\n",
    "#on va laisser Artiste à la place de style pour faciliter le copier coller\n",
    "data_lyrics_style= data_lyrics.copy()\n",
    "data_lyrics_style[\"Artiste\"]= data_lyrics[\"Artiste\"].map(dico_artiste_style)\n",
    "data_lyrics_style[[\"Artiste\", \"Annee\", \"Lyrics\"]].groupby([\"Artiste\", \"Annee\"]).agg([\"count\"])\n",
    "\n",
    "#multi index dataframe\n",
    "data_multi_style= data_lyrics_style.set_index([\"Artiste\"])\\\n",
    ".sort_values([\"Artiste\"])\n",
    "\n",
    "test= data_multi_style.groupby([\"Artiste\", \"Annee\"])[\"Lyrics\"].agg(\" \".join).to_frame()\n",
    "test[\"compteur\"]= test[\"Lyrics\"].apply(lambda x: len(set(x.split(\" \"))))\n",
    "test.reset_index(level=1, inplace=True)\n",
    "test.head(10)"
   ]
  },
  {
   "cell_type": "code",
   "execution_count": null,
   "metadata": {
    "ExecuteTime": {
     "end_time": "2020-01-14T20:27:53.422371Z",
     "start_time": "2020-01-14T20:27:53.013468Z"
    }
   },
   "outputs": [],
   "source": [
    "plot_per_artist_per_year(test, \"compteur\")"
   ]
  },
  {
   "cell_type": "markdown",
   "metadata": {},
   "source": [
    "## Remarque"
   ]
  },
  {
   "cell_type": "code",
   "execution_count": null,
   "metadata": {
    "ExecuteTime": {
     "end_time": "2020-01-14T20:27:53.895700Z",
     "start_time": "2020-01-14T20:27:53.426360Z"
    }
   },
   "outputs": [],
   "source": [
    "nb_song_per_year_style= data_lyrics_style[[\"Artiste\", \"Annee\", \"Lyrics\"]]\\\n",
    "                    .groupby([\"Artiste\", \"Annee\"])\\\n",
    "                    .count()\n",
    "\n",
    "nb_song_per_year_style= nb_song_per_year_style.reset_index(level=1)\\\n",
    "                    .sort_index().drop(\"Annee\", axis= 1)\n",
    "nb_song_per_year_style\n",
    "per_song_style= pd.concat([test, nb_song_per_year_style], axis= 1)\n",
    "per_song_style[\"mot_unique_per_song\"]= per_song_style.apply(lambda row: row[2]/row[3], axis= 1)\n",
    "\n",
    "plot_per_artist_per_year(per_song_style, \"mot_unique_per_song\")"
   ]
  },
  {
   "cell_type": "markdown",
   "metadata": {},
   "source": [
    "## Remarque"
   ]
  },
  {
   "cell_type": "markdown",
   "metadata": {},
   "source": [
    "## Cherchons à analyser quel style de musique est le plus vulgaire\n",
    "\n",
    "On va donc utiliser [une liste de ban-word](https://www.freewebheaders.com/bad-words-list-and-page-moderation-words-list-for-facebook/) qui est utilisé pour la modération sur Facebook pour définir quel style est le plus vulgaire"
   ]
  },
  {
   "cell_type": "code",
   "execution_count": null,
   "metadata": {
    "ExecuteTime": {
     "end_time": "2020-01-14T20:27:53.927616Z",
     "start_time": "2020-01-14T20:27:53.897693Z"
    },
    "scrolled": true
   },
   "outputs": [],
   "source": [
    "nono_word= pd.read_csv(\"data/ban_word.csv\", header= None, names= [\"nono\"])\n",
    "nono_word= nono_word.drop(index= 0).reset_index(drop= True)\n",
    "nono_word.head()"
   ]
  },
  {
   "cell_type": "code",
   "execution_count": null,
   "metadata": {
    "ExecuteTime": {
     "end_time": "2020-01-14T20:27:53.935591Z",
     "start_time": "2020-01-14T20:27:53.929609Z"
    }
   },
   "outputs": [],
   "source": [
    "ban_word_list= nono_word[\"nono\"].tolist()"
   ]
  },
  {
   "cell_type": "code",
   "execution_count": null,
   "metadata": {
    "ExecuteTime": {
     "end_time": "2020-01-14T20:27:54.148026Z",
     "start_time": "2020-01-14T20:27:53.939582Z"
    }
   },
   "outputs": [],
   "source": [
    "data_lyrics_nono= data_lyrics.copy()\n",
    "data_lyrics_nono[\"Artiste\"]= data_lyrics[\"Artiste\"].map(dico_artiste_style)\n",
    "data_lyrics_nono[[\"Artiste\", \"Annee\", \"Lyrics\"]].groupby([\"Artiste\", \"Annee\"]).agg([\"count\"])\n",
    "\n",
    "#multi index dataframe\n",
    "data_multi_nono= data_lyrics_nono.set_index([\"Artiste\"])\\\n",
    ".sort_values([\"Artiste\"])\n",
    "\n",
    "test= data_multi_nono.groupby([\"Artiste\", \"Annee\"])[\"Lyrics\"].agg(\" \".join).to_frame()\n",
    "test[\"compteur\"]= test[\"Lyrics\"].apply(lambda x: len(set(x.split(\" \"))))\n",
    "test.reset_index(level=1, inplace=True)\n",
    "test.head(10)"
   ]
  },
  {
   "cell_type": "code",
   "execution_count": null,
   "metadata": {
    "ExecuteTime": {
     "end_time": "2020-01-14T20:28:07.693534Z",
     "start_time": "2020-01-14T20:27:54.151019Z"
    }
   },
   "outputs": [],
   "source": [
    "#à peine long\n",
    "test[\"num_nono_word\"]= test.apply(lambda x: len([word for word in x[1].split(\" \")\\\n",
    "                                         if word in ban_word_list]), axis= 1)"
   ]
  },
  {
   "cell_type": "code",
   "execution_count": null,
   "metadata": {
    "ExecuteTime": {
     "end_time": "2020-01-14T20:28:07.715446Z",
     "start_time": "2020-01-14T20:28:07.696488Z"
    }
   },
   "outputs": [],
   "source": [
    "test.head()"
   ]
  },
  {
   "cell_type": "code",
   "execution_count": null,
   "metadata": {
    "ExecuteTime": {
     "end_time": "2020-01-14T20:28:07.770290Z",
     "start_time": "2020-01-14T20:28:07.722418Z"
    }
   },
   "outputs": [],
   "source": [
    "test[\"proportion_nono\"]= test.apply(lambda x: x[3]/(x[3]+x[2])\n",
    "                                    , axis= 1)\n",
    "test.head()"
   ]
  },
  {
   "cell_type": "code",
   "execution_count": null,
   "metadata": {
    "ExecuteTime": {
     "end_time": "2020-01-14T20:37:16.304892Z",
     "start_time": "2020-01-14T20:37:15.144062Z"
    }
   },
   "outputs": [],
   "source": [
    "#on commence par un plot simple de l'évolution du nombre de nono word par style de musique\n",
    "plot_per_artist_per_year(test, \"num_nono_word\", titre= \"Evolution de la vulgarité en nombre de mot\")\n",
    "\n",
    "#puis on va évaluer le nombre de nono moyen par style par musique\n",
    "nb_song_per_year_style= data_lyrics_style[[\"Artiste\", \"Annee\", \"Lyrics\"]]\\\n",
    "                    .groupby([\"Artiste\", \"Annee\"])\\\n",
    "                    .count()\n",
    "\n",
    "nb_song_per_year_style= nb_song_per_year_style.reset_index(level=1)\\\n",
    "                    .sort_index().drop(\"Annee\", axis= 1)\n",
    "nb_song_per_year_style\n",
    "per_song_style= pd.concat([test, nb_song_per_year_style], axis= 1)\n",
    "per_song_style[\"nono_per_song\"]= per_song_style.apply(lambda row: row[3]/row[5], axis= 1)\n",
    "\n",
    "plot_per_artist_per_year(per_song_style, \"nono_per_song\", titre= \"Evolution de la vulgarité par nombre de musique publié par année\")\n",
    "\n",
    "# enfin on observe l'évolution de la proportion de gros mot dans notre lyrics (par mot unique)\n",
    "plot_per_artist_per_year(test, \"proportion_nono\", titre= \"Evolution de la vulgarité en % de mot unique\")"
   ]
  },
  {
   "cell_type": "code",
   "execution_count": null,
   "metadata": {},
   "outputs": [],
   "source": []
  }
 ],
 "metadata": {
  "kernelspec": {
   "display_name": "Python 3",
   "language": "python",
   "name": "python3"
  },
  "language_info": {
   "codemirror_mode": {
    "name": "ipython",
    "version": 3
   },
   "file_extension": ".py",
   "mimetype": "text/x-python",
   "name": "python",
   "nbconvert_exporter": "python",
   "pygments_lexer": "ipython3",
   "version": "3.7.3"
  },
  "nteract": {
   "version": "0.15.0"
  }
 },
 "nbformat": 4,
 "nbformat_minor": 2
}
